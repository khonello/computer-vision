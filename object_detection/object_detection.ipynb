{
 "cells": [
  {
   "cell_type": "code",
   "execution_count": 1,
   "metadata": {},
   "outputs": [],
   "source": [
    "import cv2\n",
    "import numpy as np"
   ]
  },
  {
   "cell_type": "code",
   "execution_count": 2,
   "metadata": {},
   "outputs": [],
   "source": [
    "cv2.namedWindow('ObjectDetection', cv2.WINDOW_AUTOSIZE)\n",
    "\n",
    "path = './motor_bike.mp4'\n",
    "cap = cv2.VideoCapture(path)\n",
    "\n",
    "classNames = {0: 'background',\n",
    "              1: 'aeroplane',\n",
    "              2: 'bicycle',\n",
    "              3: 'bird',\n",
    "              4: 'boat',\n",
    "              5: 'bottle',\n",
    "              6: 'bus',\n",
    "              7: 'car',\n",
    "              8: 'cat',\n",
    "              9: 'chair',\n",
    "              10: 'cow',\n",
    "              11: 'diningtable',\n",
    "              12: 'dog',\n",
    "              13: 'horse',\n",
    "              14: 'motorbike',\n",
    "              15: 'person',\n",
    "              16: 'pottedplant',\n",
    "              17: 'sheep',\n",
    "              18: 'sofa',\n",
    "              19: 'train',\n",
    "              20: 'tvmonitor'}\n",
    "\n",
    "net = cv2.dnn.readNetFromCaffe('./MobileNetSSD_deploy.prototxt', './MobileNetSSD_deploy.caffemodel')\n",
    "conf_thresh = 0.7\n",
    "\n",
    "if not cap.isOpened():\n",
    "    print('File not ready')\n",
    "    \n",
    "while True:\n",
    "    \n",
    "    retval, frame = cap.read()\n",
    "    if not retval or cv2.waitKey(1) == ord('q'):\n",
    "        break\n",
    "    else:\n",
    "        frame = cv2.resize(frame, dsize= (300, 300))\n",
    "        height, width, _ = frame.shape\n",
    "        blob = cv2.dnn.blobFromImage(frame, 0.007843, (300, 300), mean= [127.5, 127.5, 127.5], swapRB= False)\n",
    "        \n",
    "        net.setInput(blob)\n",
    "        preds = net.forward()\n",
    "        \n",
    "        for i in range(preds.shape[2]):\n",
    "            \n",
    "            label_id = preds[0, 0, i, 1]\n",
    "            confidence = round(preds[0, 0, i, 2], 2)\n",
    "            \n",
    "            if confidence > conf_thresh:\n",
    "                \n",
    "                top, left, bottom, right = preds[0, 0, i, 3:]\n",
    "                \n",
    "                top_coord, left_coord = int(top * width), int(left * height)\n",
    "                bottom_coord, right_coord = int(bottom * width), int(right * height)\n",
    "                \n",
    "                colors = np.random.uniform(0, 255, (preds.shape[2], 3))\n",
    "                cv2.rectangle(frame, (top_coord, left_coord), (bottom_coord, right_coord), [int(arg) for arg in colors[i]])\n",
    "                cv2.putText(frame, classNames[label_id], (top_coord + 10, left_coord - 10), cv2.FONT_HERSHEY_COMPLEX_SMALL, 0.5, [int(arg) for arg in colors[i]])\n",
    "                \n",
    "        cv2.imshow('ObjectDetection', frame)\n",
    "cap.release()\n",
    "cv2.destroyAllWindows()"
   ]
  },
  {
   "cell_type": "code",
   "execution_count": null,
   "metadata": {},
   "outputs": [],
   "source": []
  }
 ],
 "metadata": {
  "kernelspec": {
   "display_name": "Python 3 (ipykernel)",
   "language": "python",
   "name": "python3"
  },
  "language_info": {
   "codemirror_mode": {
    "name": "ipython",
    "version": 3
   },
   "file_extension": ".py",
   "mimetype": "text/x-python",
   "name": "python",
   "nbconvert_exporter": "python",
   "pygments_lexer": "ipython3",
   "version": "3.9.7"
  },
  "vscode": {
   "interpreter": {
    "hash": "094dd3fb6e0701794236357294a8564d335eb4b443a0ca1066236b7561263559"
   }
  }
 },
 "nbformat": 4,
 "nbformat_minor": 2
}
