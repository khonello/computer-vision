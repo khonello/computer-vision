{
 "cells": [
  {
   "cell_type": "code",
   "execution_count": 1,
   "id": "c8099624",
   "metadata": {},
   "outputs": [],
   "source": [
    "import cv2\n",
    "import numpy as np"
   ]
  },
  {
   "cell_type": "code",
   "execution_count": 3,
   "id": "589a963b",
   "metadata": {},
   "outputs": [],
   "source": [
    "with open('./ImageNet_ILSVRC_labels.txt', 'r') as f:\n",
    "    label = [arg.strip().split(',')[0] for arg in f.readlines()]"
   ]
  },
  {
   "cell_type": "code",
   "execution_count": 136,
   "id": "fc3b7764",
   "metadata": {},
   "outputs": [],
   "source": [
    "img = cv2.imread('./dog.jpg')\n",
    "if img.shape[1] <= 980 or img.shape[0] <= 360:\n",
    "    resizedimg = img\n",
    "else:\n",
    "    resizedimg = cv2.resize(img, (img.shape[0] // 2, img.shape[1] // 2), dst= None, interpolation= cv2.INTER_AREA)"
   ]
  },
  {
   "cell_type": "code",
   "execution_count": 137,
   "id": "2ad4440f",
   "metadata": {},
   "outputs": [],
   "source": [
    "net = cv2.dnn.readNetFromCaffe('./deploy.prototxt', './bvlc_reference_caffenet.caffemodel')\n",
    "blob = cv2.dnn.blobFromImage(img, 1, size= (224, 224), mean= (104, 117, 123))\n",
    "\n",
    "net.setInput(blob)\n",
    "preds = net.forward()"
   ]
  },
  {
   "cell_type": "code",
   "execution_count": 148,
   "id": "950f03bc",
   "metadata": {},
   "outputs": [],
   "source": [
    "idxs = np.argsort(preds[0])[::-1][:2]\n",
    "textimg = cv2.putText(resizedimg, f\"predicted: {label[idxs[0]]} {preds[0][idxs[0]] * 100:.2f}%\", (10, 20), cv2.FONT_HERSHEY_COMPLEX_SMALL, 0.7, (61, 174, 242), 1, cv2.LINE_4)"
   ]
  },
  {
   "cell_type": "code",
   "execution_count": 149,
   "id": "87150043",
   "metadata": {},
   "outputs": [],
   "source": [
    "cv2.namedWindow(\"Image classification\", cv2.WINDOW_AUTOSIZE)\n",
    "cv2.imshow('Image classification', resizedimg)\n",
    "cv2.waitKey(0)\n",
    "cv2.destroyAllWindows()"
   ]
  },
  {
   "cell_type": "code",
   "execution_count": null,
   "id": "73c7de49",
   "metadata": {},
   "outputs": [],
   "source": []
  }
 ],
 "metadata": {
  "kernelspec": {
   "display_name": "Python 3 (ipykernel)",
   "language": "python",
   "name": "python3"
  },
  "language_info": {
   "codemirror_mode": {
    "name": "ipython",
    "version": 3
   },
   "file_extension": ".py",
   "mimetype": "text/x-python",
   "name": "python",
   "nbconvert_exporter": "python",
   "pygments_lexer": "ipython3",
   "version": "3.9.7"
  }
 },
 "nbformat": 4,
 "nbformat_minor": 5
}
